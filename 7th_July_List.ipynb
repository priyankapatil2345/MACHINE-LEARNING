{
 "cells": [
  {
   "cell_type": "code",
   "execution_count": 1,
   "id": "73777e57",
   "metadata": {},
   "outputs": [],
   "source": [
    "A = 10"
   ]
  },
  {
   "cell_type": "code",
   "execution_count": 2,
   "id": "d5f8b2c8",
   "metadata": {},
   "outputs": [
    {
     "data": {
      "text/plain": [
       "10"
      ]
     },
     "execution_count": 2,
     "metadata": {},
     "output_type": "execute_result"
    }
   ],
   "source": [
    "A"
   ]
  },
  {
   "cell_type": "code",
   "execution_count": 3,
   "id": "1464e83f",
   "metadata": {},
   "outputs": [],
   "source": [
    "K = [23,4,6,4,5,3,4,4,5,7,8]"
   ]
  },
  {
   "cell_type": "code",
   "execution_count": 4,
   "id": "c5ec73c8",
   "metadata": {},
   "outputs": [
    {
     "data": {
      "text/plain": [
       "[23, 4, 6, 4, 5, 3, 4, 4, 5, 7, 8]"
      ]
     },
     "execution_count": 4,
     "metadata": {},
     "output_type": "execute_result"
    }
   ],
   "source": [
    "K"
   ]
  },
  {
   "cell_type": "code",
   "execution_count": 5,
   "id": "907fa35b",
   "metadata": {},
   "outputs": [
    {
     "data": {
      "text/plain": [
       "list"
      ]
     },
     "execution_count": 5,
     "metadata": {},
     "output_type": "execute_result"
    }
   ],
   "source": [
    "type(K)"
   ]
  },
  {
   "cell_type": "code",
   "execution_count": 6,
   "id": "70ae4726",
   "metadata": {},
   "outputs": [
    {
     "data": {
      "text/plain": [
       "11"
      ]
     },
     "execution_count": 6,
     "metadata": {},
     "output_type": "execute_result"
    }
   ],
   "source": [
    "len(K)"
   ]
  },
  {
   "cell_type": "code",
   "execution_count": 7,
   "id": "8669532a",
   "metadata": {},
   "outputs": [],
   "source": [
    "# len command is used to calculate number of elements."
   ]
  },
  {
   "cell_type": "code",
   "execution_count": 8,
   "id": "04f2e865",
   "metadata": {},
   "outputs": [
    {
     "data": {
      "text/plain": [
       "11"
      ]
     },
     "execution_count": 8,
     "metadata": {},
     "output_type": "execute_result"
    }
   ],
   "source": [
    "len(K)"
   ]
  },
  {
   "cell_type": "code",
   "execution_count": 9,
   "id": "f233c3d9",
   "metadata": {},
   "outputs": [],
   "source": [
    "L = [12.3,45.0,56.7]"
   ]
  },
  {
   "cell_type": "code",
   "execution_count": 10,
   "id": "99c7f324",
   "metadata": {},
   "outputs": [
    {
     "data": {
      "text/plain": [
       "[12.3, 45.0, 56.7]"
      ]
     },
     "execution_count": 10,
     "metadata": {},
     "output_type": "execute_result"
    }
   ],
   "source": [
    "L"
   ]
  },
  {
   "cell_type": "code",
   "execution_count": 11,
   "id": "33256ec2",
   "metadata": {},
   "outputs": [
    {
     "data": {
      "text/plain": [
       "list"
      ]
     },
     "execution_count": 11,
     "metadata": {},
     "output_type": "execute_result"
    }
   ],
   "source": [
    "type(L)"
   ]
  },
  {
   "cell_type": "code",
   "execution_count": 12,
   "id": "fa3ed453",
   "metadata": {},
   "outputs": [
    {
     "data": {
      "text/plain": [
       "3"
      ]
     },
     "execution_count": 12,
     "metadata": {},
     "output_type": "execute_result"
    }
   ],
   "source": [
    "len(L)"
   ]
  },
  {
   "cell_type": "code",
   "execution_count": 13,
   "id": "092850ed",
   "metadata": {},
   "outputs": [],
   "source": [
    "A = ['sapana','Yogita','Priyanka','Prachi']"
   ]
  },
  {
   "cell_type": "code",
   "execution_count": 14,
   "id": "16e27052",
   "metadata": {},
   "outputs": [
    {
     "data": {
      "text/plain": [
       "['sapana', 'Yogita', 'Priyanka', 'Prachi']"
      ]
     },
     "execution_count": 14,
     "metadata": {},
     "output_type": "execute_result"
    }
   ],
   "source": [
    "A"
   ]
  },
  {
   "cell_type": "code",
   "execution_count": 15,
   "id": "474bc8c4",
   "metadata": {},
   "outputs": [
    {
     "data": {
      "text/plain": [
       "4"
      ]
     },
     "execution_count": 15,
     "metadata": {},
     "output_type": "execute_result"
    }
   ],
   "source": [
    "len(A)"
   ]
  },
  {
   "cell_type": "code",
   "execution_count": 16,
   "id": "54762d1d",
   "metadata": {},
   "outputs": [],
   "source": [
    "B = ['Prachi',100,200.3]"
   ]
  },
  {
   "cell_type": "code",
   "execution_count": 17,
   "id": "68edbc2e",
   "metadata": {},
   "outputs": [
    {
     "data": {
      "text/plain": [
       "['Prachi', 100, 200.3]"
      ]
     },
     "execution_count": 17,
     "metadata": {},
     "output_type": "execute_result"
    }
   ],
   "source": [
    "B"
   ]
  },
  {
   "cell_type": "code",
   "execution_count": 18,
   "id": "66d25087",
   "metadata": {},
   "outputs": [
    {
     "data": {
      "text/plain": [
       "3"
      ]
     },
     "execution_count": 18,
     "metadata": {},
     "output_type": "execute_result"
    }
   ],
   "source": [
    "len(B)"
   ]
  },
  {
   "cell_type": "code",
   "execution_count": 19,
   "id": "db5f4637",
   "metadata": {},
   "outputs": [
    {
     "data": {
      "text/plain": [
       "[23, 4, 6, 4, 5, 3, 4, 4, 5, 7, 8]"
      ]
     },
     "execution_count": 19,
     "metadata": {},
     "output_type": "execute_result"
    }
   ],
   "source": [
    "K"
   ]
  },
  {
   "cell_type": "code",
   "execution_count": 20,
   "id": "af99825c",
   "metadata": {},
   "outputs": [
    {
     "data": {
      "text/plain": [
       "11"
      ]
     },
     "execution_count": 20,
     "metadata": {},
     "output_type": "execute_result"
    }
   ],
   "source": [
    "len(K)"
   ]
  },
  {
   "cell_type": "code",
   "execution_count": 21,
   "id": "72a7ce45",
   "metadata": {},
   "outputs": [],
   "source": [
    "C = [45,67,89,23,44,68,90,99,2,5,6,7]\n",
    "#  C = [45,67,89,23,44,68,90,99,2,5,6,7]\n",
    "# Index 0  1  2  3  4  5  6  7 8 9 10 11 "
   ]
  },
  {
   "cell_type": "code",
   "execution_count": 22,
   "id": "824f4f5b",
   "metadata": {},
   "outputs": [
    {
     "data": {
      "text/plain": [
       "12"
      ]
     },
     "execution_count": 22,
     "metadata": {},
     "output_type": "execute_result"
    }
   ],
   "source": [
    "len(C)"
   ]
  },
  {
   "cell_type": "code",
   "execution_count": 24,
   "id": "37b97134",
   "metadata": {},
   "outputs": [
    {
     "data": {
      "text/plain": [
       "67"
      ]
     },
     "execution_count": 24,
     "metadata": {},
     "output_type": "execute_result"
    }
   ],
   "source": [
    "C[1]"
   ]
  },
  {
   "cell_type": "code",
   "execution_count": 25,
   "id": "4439b894",
   "metadata": {},
   "outputs": [
    {
     "data": {
      "text/plain": [
       "99"
      ]
     },
     "execution_count": 25,
     "metadata": {},
     "output_type": "execute_result"
    }
   ],
   "source": [
    "C[7]"
   ]
  },
  {
   "cell_type": "code",
   "execution_count": 26,
   "id": "747c0f6c",
   "metadata": {},
   "outputs": [
    {
     "data": {
      "text/plain": [
       "[45, 67, 89, 23, 44, 68, 90, 99, 2, 5, 6, 7]"
      ]
     },
     "execution_count": 26,
     "metadata": {},
     "output_type": "execute_result"
    }
   ],
   "source": [
    "C"
   ]
  },
  {
   "cell_type": "code",
   "execution_count": 27,
   "id": "3d422ece",
   "metadata": {},
   "outputs": [
    {
     "data": {
      "text/plain": [
       "6"
      ]
     },
     "execution_count": 27,
     "metadata": {},
     "output_type": "execute_result"
    }
   ],
   "source": [
    "C.index(90)"
   ]
  },
  {
   "cell_type": "code",
   "execution_count": 28,
   "id": "49c5cbe6",
   "metadata": {},
   "outputs": [
    {
     "data": {
      "text/plain": [
       "2"
      ]
     },
     "execution_count": 28,
     "metadata": {},
     "output_type": "execute_result"
    }
   ],
   "source": [
    "C.index(89)"
   ]
  },
  {
   "cell_type": "code",
   "execution_count": 29,
   "id": "e9bd56fb",
   "metadata": {},
   "outputs": [
    {
     "data": {
      "text/plain": [
       "['sapana', 'Yogita', 'Priyanka', 'Prachi']"
      ]
     },
     "execution_count": 29,
     "metadata": {},
     "output_type": "execute_result"
    }
   ],
   "source": [
    "A"
   ]
  },
  {
   "cell_type": "code",
   "execution_count": 30,
   "id": "f8aa9c2a",
   "metadata": {},
   "outputs": [
    {
     "data": {
      "text/plain": [
       "'Yogita'"
      ]
     },
     "execution_count": 30,
     "metadata": {},
     "output_type": "execute_result"
    }
   ],
   "source": [
    "A[1]"
   ]
  },
  {
   "cell_type": "code",
   "execution_count": 31,
   "id": "59afb3c9",
   "metadata": {},
   "outputs": [
    {
     "data": {
      "text/plain": [
       "[45, 67, 89, 23, 44, 68, 90, 99, 2, 5, 6, 7]"
      ]
     },
     "execution_count": 31,
     "metadata": {},
     "output_type": "execute_result"
    }
   ],
   "source": [
    "C"
   ]
  },
  {
   "cell_type": "code",
   "execution_count": 32,
   "id": "f4c70e98",
   "metadata": {},
   "outputs": [
    {
     "data": {
      "text/plain": [
       "[23, 44, 68, 90]"
      ]
     },
     "execution_count": 32,
     "metadata": {},
     "output_type": "execute_result"
    }
   ],
   "source": [
    "C[3:7]"
   ]
  },
  {
   "cell_type": "code",
   "execution_count": 33,
   "id": "1093e72e",
   "metadata": {},
   "outputs": [
    {
     "data": {
      "text/plain": [
       "[44, 68]"
      ]
     },
     "execution_count": 33,
     "metadata": {},
     "output_type": "execute_result"
    }
   ],
   "source": [
    "C[4:6]"
   ]
  },
  {
   "cell_type": "code",
   "execution_count": 34,
   "id": "edf1fbbb",
   "metadata": {},
   "outputs": [
    {
     "data": {
      "text/plain": [
       "[45, 67, 89, 23, 44]"
      ]
     },
     "execution_count": 34,
     "metadata": {},
     "output_type": "execute_result"
    }
   ],
   "source": [
    "C[0:5]"
   ]
  },
  {
   "cell_type": "code",
   "execution_count": 35,
   "id": "8b852f23",
   "metadata": {},
   "outputs": [
    {
     "data": {
      "text/plain": [
       "[45, 67, 89, 23, 44]"
      ]
     },
     "execution_count": 35,
     "metadata": {},
     "output_type": "execute_result"
    }
   ],
   "source": [
    "C[:5]"
   ]
  },
  {
   "cell_type": "code",
   "execution_count": 36,
   "id": "7b2b36f4",
   "metadata": {},
   "outputs": [
    {
     "data": {
      "text/plain": [
       "[90, 99, 2, 5, 6, 7]"
      ]
     },
     "execution_count": 36,
     "metadata": {},
     "output_type": "execute_result"
    }
   ],
   "source": [
    "C[6:]"
   ]
  },
  {
   "cell_type": "code",
   "execution_count": 37,
   "id": "7b5e5213",
   "metadata": {},
   "outputs": [
    {
     "data": {
      "text/plain": [
       "[45, 67, 89, 23, 44, 68, 90, 99, 2, 5, 6, 7]"
      ]
     },
     "execution_count": 37,
     "metadata": {},
     "output_type": "execute_result"
    }
   ],
   "source": [
    "C"
   ]
  },
  {
   "cell_type": "code",
   "execution_count": 38,
   "id": "f56461f7",
   "metadata": {},
   "outputs": [
    {
     "data": {
      "text/plain": [
       "1"
      ]
     },
     "execution_count": 38,
     "metadata": {},
     "output_type": "execute_result"
    }
   ],
   "source": [
    "C.index(67)"
   ]
  },
  {
   "cell_type": "code",
   "execution_count": 39,
   "id": "65f359db",
   "metadata": {},
   "outputs": [
    {
     "data": {
      "text/plain": [
       "67"
      ]
     },
     "execution_count": 39,
     "metadata": {},
     "output_type": "execute_result"
    }
   ],
   "source": [
    "C[1]"
   ]
  },
  {
   "cell_type": "code",
   "execution_count": 40,
   "id": "e55d4cf0",
   "metadata": {},
   "outputs": [
    {
     "data": {
      "text/plain": [
       "[23, 4, 6, 4, 5, 3, 4, 4, 5, 7, 8]"
      ]
     },
     "execution_count": 40,
     "metadata": {},
     "output_type": "execute_result"
    }
   ],
   "source": [
    "K"
   ]
  },
  {
   "cell_type": "code",
   "execution_count": 41,
   "id": "6b9b7f17",
   "metadata": {},
   "outputs": [
    {
     "data": {
      "text/plain": [
       "1"
      ]
     },
     "execution_count": 41,
     "metadata": {},
     "output_type": "execute_result"
    }
   ],
   "source": [
    "K.index(4)"
   ]
  },
  {
   "cell_type": "code",
   "execution_count": 42,
   "id": "49cf6a39",
   "metadata": {},
   "outputs": [
    {
     "data": {
      "text/plain": [
       "['sapana', 'Yogita', 'Priyanka', 'Prachi']"
      ]
     },
     "execution_count": 42,
     "metadata": {},
     "output_type": "execute_result"
    }
   ],
   "source": [
    "A"
   ]
  },
  {
   "cell_type": "code",
   "execution_count": 43,
   "id": "5305442a",
   "metadata": {},
   "outputs": [],
   "source": [
    "# Replace\n",
    "A[1] = 'Sejal'"
   ]
  },
  {
   "cell_type": "code",
   "execution_count": 44,
   "id": "28840f71",
   "metadata": {},
   "outputs": [
    {
     "data": {
      "text/plain": [
       "['sapana', 'Sejal', 'Priyanka', 'Prachi']"
      ]
     },
     "execution_count": 44,
     "metadata": {},
     "output_type": "execute_result"
    }
   ],
   "source": [
    "A"
   ]
  },
  {
   "cell_type": "code",
   "execution_count": 45,
   "id": "bb07a952",
   "metadata": {},
   "outputs": [],
   "source": [
    "# Insert"
   ]
  },
  {
   "cell_type": "code",
   "execution_count": 46,
   "id": "88ec98ba",
   "metadata": {},
   "outputs": [],
   "source": [
    "A.insert(2,'Yogita')"
   ]
  },
  {
   "cell_type": "code",
   "execution_count": 47,
   "id": "0d375e11",
   "metadata": {},
   "outputs": [
    {
     "data": {
      "text/plain": [
       "['sapana', 'Sejal', 'Yogita', 'Priyanka', 'Prachi']"
      ]
     },
     "execution_count": 47,
     "metadata": {},
     "output_type": "execute_result"
    }
   ],
   "source": [
    "A"
   ]
  },
  {
   "cell_type": "code",
   "execution_count": 48,
   "id": "cd2f8ff9",
   "metadata": {},
   "outputs": [],
   "source": [
    "# Add element in last.\n",
    "A.append('nikhil')"
   ]
  },
  {
   "cell_type": "code",
   "execution_count": 49,
   "id": "df72f9b7",
   "metadata": {},
   "outputs": [
    {
     "data": {
      "text/plain": [
       "['sapana', 'Sejal', 'Yogita', 'Priyanka', 'Prachi', 'nikhil']"
      ]
     },
     "execution_count": 49,
     "metadata": {},
     "output_type": "execute_result"
    }
   ],
   "source": [
    "A"
   ]
  },
  {
   "cell_type": "code",
   "execution_count": 50,
   "id": "6de78571",
   "metadata": {},
   "outputs": [],
   "source": [
    "A.append('Sparrow')"
   ]
  },
  {
   "cell_type": "code",
   "execution_count": 51,
   "id": "f537a178",
   "metadata": {},
   "outputs": [
    {
     "data": {
      "text/plain": [
       "['sapana', 'Sejal', 'Yogita', 'Priyanka', 'Prachi', 'nikhil', 'Sparrow']"
      ]
     },
     "execution_count": 51,
     "metadata": {},
     "output_type": "execute_result"
    }
   ],
   "source": [
    "A"
   ]
  },
  {
   "cell_type": "code",
   "execution_count": 53,
   "id": "e9287b08",
   "metadata": {},
   "outputs": [
    {
     "data": {
      "text/plain": [
       "'Sparrow'"
      ]
     },
     "execution_count": 53,
     "metadata": {},
     "output_type": "execute_result"
    }
   ],
   "source": [
    "# To display last element \".pop()\" is used.\n",
    "A.pop()"
   ]
  },
  {
   "cell_type": "code",
   "execution_count": 54,
   "id": "5b95e1ff",
   "metadata": {},
   "outputs": [
    {
     "data": {
      "text/plain": [
       "['sapana', 'Sejal', 'Yogita', 'Priyanka', 'Prachi', 'nikhil']"
      ]
     },
     "execution_count": 54,
     "metadata": {},
     "output_type": "execute_result"
    }
   ],
   "source": [
    "A"
   ]
  },
  {
   "cell_type": "code",
   "execution_count": 55,
   "id": "30c77bb6",
   "metadata": {},
   "outputs": [
    {
     "data": {
      "text/plain": [
       "'nikhil'"
      ]
     },
     "execution_count": 55,
     "metadata": {},
     "output_type": "execute_result"
    }
   ],
   "source": [
    "A.pop()"
   ]
  },
  {
   "cell_type": "code",
   "execution_count": 56,
   "id": "0dbbf14c",
   "metadata": {},
   "outputs": [
    {
     "data": {
      "text/plain": [
       "['sapana', 'Sejal', 'Yogita', 'Priyanka', 'Prachi']"
      ]
     },
     "execution_count": 56,
     "metadata": {},
     "output_type": "execute_result"
    }
   ],
   "source": [
    "A"
   ]
  },
  {
   "cell_type": "code",
   "execution_count": 57,
   "id": "c6b1a6d5",
   "metadata": {},
   "outputs": [],
   "source": [
    "A.remove('Sejal')"
   ]
  },
  {
   "cell_type": "code",
   "execution_count": 58,
   "id": "6b07d270",
   "metadata": {},
   "outputs": [
    {
     "data": {
      "text/plain": [
       "['sapana', 'Yogita', 'Priyanka', 'Prachi']"
      ]
     },
     "execution_count": 58,
     "metadata": {},
     "output_type": "execute_result"
    }
   ],
   "source": [
    "A"
   ]
  },
  {
   "cell_type": "code",
   "execution_count": 59,
   "id": "b0dc5d5d",
   "metadata": {},
   "outputs": [],
   "source": [
    "# Nested list."
   ]
  },
  {
   "cell_type": "code",
   "execution_count": 60,
   "id": "47cc60fe",
   "metadata": {},
   "outputs": [],
   "source": [
    "S = [23,45,67,89,[44,23,68,2]]"
   ]
  },
  {
   "cell_type": "code",
   "execution_count": 61,
   "id": "6c48fc5b",
   "metadata": {},
   "outputs": [
    {
     "data": {
      "text/plain": [
       "5"
      ]
     },
     "execution_count": 61,
     "metadata": {},
     "output_type": "execute_result"
    }
   ],
   "source": [
    "len(S)"
   ]
  },
  {
   "cell_type": "code",
   "execution_count": 62,
   "id": "ae3fdeb5",
   "metadata": {},
   "outputs": [
    {
     "data": {
      "text/plain": [
       "67"
      ]
     },
     "execution_count": 62,
     "metadata": {},
     "output_type": "execute_result"
    }
   ],
   "source": [
    "S[2]"
   ]
  },
  {
   "cell_type": "code",
   "execution_count": 63,
   "id": "98feb547",
   "metadata": {},
   "outputs": [
    {
     "data": {
      "text/plain": [
       "[44, 23, 68, 2]"
      ]
     },
     "execution_count": 63,
     "metadata": {},
     "output_type": "execute_result"
    }
   ],
   "source": [
    "S[4]"
   ]
  },
  {
   "cell_type": "code",
   "execution_count": 64,
   "id": "9a3c0375",
   "metadata": {},
   "outputs": [
    {
     "data": {
      "text/plain": [
       "44"
      ]
     },
     "execution_count": 64,
     "metadata": {},
     "output_type": "execute_result"
    }
   ],
   "source": [
    "S[4][0]"
   ]
  },
  {
   "cell_type": "code",
   "execution_count": 65,
   "id": "b0e10678",
   "metadata": {},
   "outputs": [],
   "source": [
    "D = [45,34,909,344,567,[23,67,89,['target']]]"
   ]
  },
  {
   "cell_type": "code",
   "execution_count": 66,
   "id": "18ab0338",
   "metadata": {},
   "outputs": [
    {
     "data": {
      "text/plain": [
       "[23, 67, 89, ['target']]"
      ]
     },
     "execution_count": 66,
     "metadata": {},
     "output_type": "execute_result"
    }
   ],
   "source": [
    "D[5]"
   ]
  },
  {
   "cell_type": "code",
   "execution_count": 67,
   "id": "f7774188",
   "metadata": {},
   "outputs": [
    {
     "data": {
      "text/plain": [
       "['target']"
      ]
     },
     "execution_count": 67,
     "metadata": {},
     "output_type": "execute_result"
    }
   ],
   "source": [
    "D[5][3]"
   ]
  },
  {
   "cell_type": "code",
   "execution_count": 68,
   "id": "07fc1bfc",
   "metadata": {},
   "outputs": [
    {
     "data": {
      "text/plain": [
       "'target'"
      ]
     },
     "execution_count": 68,
     "metadata": {},
     "output_type": "execute_result"
    }
   ],
   "source": [
    "D[5][3][0]"
   ]
  },
  {
   "cell_type": "code",
   "execution_count": null,
   "id": "ef1ece11",
   "metadata": {},
   "outputs": [],
   "source": []
  }
 ],
 "metadata": {
  "kernelspec": {
   "display_name": "Python 3 (ipykernel)",
   "language": "python",
   "name": "python3"
  },
  "language_info": {
   "codemirror_mode": {
    "name": "ipython",
    "version": 3
   },
   "file_extension": ".py",
   "mimetype": "text/x-python",
   "name": "python",
   "nbconvert_exporter": "python",
   "pygments_lexer": "ipython3",
   "version": "3.10.9"
  }
 },
 "nbformat": 4,
 "nbformat_minor": 5
}
